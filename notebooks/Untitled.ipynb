{
 "cells": [
  {
   "cell_type": "code",
   "execution_count": 1,
   "metadata": {
    "ExecuteTime": {
     "end_time": "2020-12-04T03:20:08.707361Z",
     "start_time": "2020-12-04T03:20:08.704954Z"
    }
   },
   "outputs": [],
   "source": [
    "import sys\n",
    "sys.path.append('/Users/jim/repos/research/pynstein')"
   ]
  },
  {
   "cell_type": "markdown",
   "metadata": {},
   "source": [
    "# GIIM Curvature Equations"
   ]
  },
  {
   "cell_type": "markdown",
   "metadata": {},
   "source": [
    "## Setup GIIM"
   ]
  },
  {
   "cell_type": "code",
   "execution_count": 2,
   "metadata": {
    "ExecuteTime": {
     "end_time": "2020-12-04T03:20:10.876763Z",
     "start_time": "2020-12-04T03:20:10.276482Z"
    }
   },
   "outputs": [],
   "source": [
    "import itertools\n",
    "from sympy import Symbol, simplify, Function\n",
    "from pynstein.symbolic import metric, constants, gravity, utilities, curvature, coords"
   ]
  },
  {
   "cell_type": "code",
   "execution_count": 22,
   "metadata": {
    "ExecuteTime": {
     "end_time": "2020-12-04T03:23:58.454086Z",
     "start_time": "2020-12-04T03:23:58.016800Z"
    }
   },
   "outputs": [],
   "source": [
    "gii = metric.gii()"
   ]
  },
  {
   "cell_type": "code",
   "execution_count": 23,
   "metadata": {
    "ExecuteTime": {
     "end_time": "2020-12-04T03:23:59.538613Z",
     "start_time": "2020-12-04T03:23:59.532442Z"
    }
   },
   "outputs": [
    {
     "data": {
      "text/latex": [
       "$\\displaystyle L^{2}{\\left(t,r \\right)} M{\\left(t,r \\right)} \\operatorname{d}t + \\operatorname{d}r \\otimes M{\\left(t,r \\right)} \\operatorname{d}t + \\operatorname{d}r - N^{2}{\\left(t,r \\right)} \\operatorname{d}t \\otimes \\operatorname{d}t + S^{2}{\\left(t,r \\right)} \\left(\\sin^{2}{\\left(\\theta \\right)} \\operatorname{d}\\varphi \\otimes \\operatorname{d}\\varphi + \\operatorname{d}\\theta \\otimes \\operatorname{d}\\theta\\right)$"
      ],
      "text/plain": [
       "L(t, r)**2*TensorProduct(M(t, r)*dt + dr, M(t, r)*dt + dr) - N(t, r)**2*TensorProduct(dt, dt) + S(t, r)**2*(sin(\\theta)**2*TensorProduct(d\\varphi, d\\varphi) + TensorProduct(d\\theta, d\\theta))"
      ]
     },
     "execution_count": 23,
     "metadata": {},
     "output_type": "execute_result"
    }
   ],
   "source": [
    "gii"
   ]
  },
  {
   "cell_type": "code",
   "execution_count": 24,
   "metadata": {
    "ExecuteTime": {
     "end_time": "2020-12-04T03:24:00.945117Z",
     "start_time": "2020-12-04T03:24:00.939933Z"
    }
   },
   "outputs": [
    {
     "data": {
      "text/latex": [
       "$\\displaystyle \\left[\\begin{matrix}L^{2}{\\left(t,r \\right)} M^{2}{\\left(t,r \\right)} - N^{2}{\\left(t,r \\right)} & L^{2}{\\left(t,r \\right)} M{\\left(t,r \\right)} & 0 & 0\\\\L^{2}{\\left(t,r \\right)} M{\\left(t,r \\right)} & L^{2}{\\left(t,r \\right)} & 0 & 0\\\\0 & 0 & S^{2}{\\left(t,r \\right)} & 0\\\\0 & 0 & 0 & S^{2}{\\left(t,r \\right)} \\sin^{2}{\\left(\\theta \\right)}\\end{matrix}\\right]$"
      ],
      "text/plain": [
       "Matrix([\n",
       "[L(t, r)**2*M(t, r)**2 - N(t, r)**2, L(t, r)**2*M(t, r),          0,                         0],\n",
       "[                L(t, r)**2*M(t, r),         L(t, r)**2,          0,                         0],\n",
       "[                                 0,                  0, S(t, r)**2,                         0],\n",
       "[                                 0,                  0,          0, S(t, r)**2*sin(\\theta)**2]])"
      ]
     },
     "execution_count": 24,
     "metadata": {},
     "output_type": "execute_result"
    }
   ],
   "source": [
    "gii.matrix"
   ]
  },
  {
   "cell_type": "markdown",
   "metadata": {},
   "source": [
    "## Simplifying Assumptions"
   ]
  },
  {
   "cell_type": "code",
   "execution_count": 25,
   "metadata": {
    "ExecuteTime": {
     "end_time": "2020-12-04T03:24:03.310688Z",
     "start_time": "2020-12-04T03:24:03.308792Z"
    }
   },
   "outputs": [],
   "source": [
    "M, N, L, S = gii.components"
   ]
  },
  {
   "cell_type": "code",
   "execution_count": 26,
   "metadata": {
    "ExecuteTime": {
     "end_time": "2020-12-04T03:24:11.199858Z",
     "start_time": "2020-12-04T03:24:10.880909Z"
    }
   },
   "outputs": [],
   "source": [
    "# Assume N = 1 and M = 0 and build new metric\n",
    "simp_gii = metric.Metric(twoform=gii.twoform.subs({M: 0, N: 1}), components=gii.components)"
   ]
  },
  {
   "cell_type": "code",
   "execution_count": 52,
   "metadata": {
    "ExecuteTime": {
     "end_time": "2020-12-04T03:29:43.194477Z",
     "start_time": "2020-12-04T03:29:43.190098Z"
    }
   },
   "outputs": [
    {
     "data": {
      "text/latex": [
       "$\\displaystyle \\left[\\begin{matrix}-1 & 0 & 0 & 0\\\\0 & L^{2}{\\left(t,r \\right)} & 0 & 0\\\\0 & 0 & S^{2}{\\left(t,r \\right)} & 0\\\\0 & 0 & 0 & S^{2}{\\left(t,r \\right)} \\sin^{2}{\\left(\\theta \\right)}\\end{matrix}\\right]$"
      ],
      "text/plain": [
       "Matrix([\n",
       "[-1,          0,          0,                         0],\n",
       "[ 0, L(t, r)**2,          0,                         0],\n",
       "[ 0,          0, S(t, r)**2,                         0],\n",
       "[ 0,          0,          0, S(t, r)**2*sin(\\theta)**2]])"
      ]
     },
     "execution_count": 52,
     "metadata": {},
     "output_type": "execute_result"
    }
   ],
   "source": [
    "simp_gii.matrix"
   ]
  },
  {
   "cell_type": "markdown",
   "metadata": {},
   "source": [
    "### Trial Assumption for $S$"
   ]
  },
  {
   "cell_type": "markdown",
   "metadata": {},
   "source": [
    "Assume $S(t,r) = r$"
   ]
  },
  {
   "cell_type": "code",
   "execution_count": 28,
   "metadata": {
    "ExecuteTime": {
     "end_time": "2020-12-04T03:24:14.819720Z",
     "start_time": "2020-12-04T03:24:14.817755Z"
    }
   },
   "outputs": [],
   "source": [
    "t, r, *_ = gii.coord_system.base_symbols()"
   ]
  },
  {
   "cell_type": "code",
   "execution_count": 45,
   "metadata": {
    "ExecuteTime": {
     "end_time": "2020-12-04T03:28:05.165645Z",
     "start_time": "2020-12-04T03:28:04.791777Z"
    }
   },
   "outputs": [],
   "source": [
    "simp_2_gii = metric.Metric(twoform=simp_gii.twoform.subs({S: r}), components=gii.components[:-1])"
   ]
  },
  {
   "cell_type": "code",
   "execution_count": 53,
   "metadata": {
    "ExecuteTime": {
     "end_time": "2020-12-04T03:29:53.391811Z",
     "start_time": "2020-12-04T03:29:53.387668Z"
    }
   },
   "outputs": [
    {
     "data": {
      "text/latex": [
       "$\\displaystyle \\left[\\begin{matrix}-1 & 0 & 0 & 0\\\\0 & L^{2}{\\left(t,r \\right)} & 0 & 0\\\\0 & 0 & r^{2} & 0\\\\0 & 0 & 0 & r^{2} \\sin^{2}{\\left(\\theta \\right)}\\end{matrix}\\right]$"
      ],
      "text/plain": [
       "Matrix([\n",
       "[-1,          0,    0,                   0],\n",
       "[ 0, L(t, r)**2,    0,                   0],\n",
       "[ 0,          0, r**2,                   0],\n",
       "[ 0,          0,    0, r**2*sin(\\theta)**2]])"
      ]
     },
     "execution_count": 53,
     "metadata": {},
     "output_type": "execute_result"
    }
   ],
   "source": [
    "simp_2_gii.matrix"
   ]
  },
  {
   "cell_type": "markdown",
   "metadata": {},
   "source": [
    "## Compute Curvature Equations"
   ]
  },
  {
   "cell_type": "code",
   "execution_count": 54,
   "metadata": {
    "ExecuteTime": {
     "end_time": "2020-12-04T03:30:35.131053Z",
     "start_time": "2020-12-04T03:30:35.129092Z"
    }
   },
   "outputs": [],
   "source": [
    "g = simp_gii\n",
    "# g = simp_2_gii"
   ]
  },
  {
   "cell_type": "code",
   "execution_count": 55,
   "metadata": {
    "ExecuteTime": {
     "end_time": "2020-12-04T03:30:38.265244Z",
     "start_time": "2020-12-04T03:30:36.027072Z"
    }
   },
   "outputs": [
    {
     "data": {
      "text/latex": [
       "$\\displaystyle \\frac{L^{3}{\\left(t,r \\right)} \\left(\\frac{\\partial}{\\partial t} S{\\left(t,r \\right)}\\right)^{2} + L^{3}{\\left(t,r \\right)} + 2 L^{2}{\\left(t,r \\right)} S{\\left(t,r \\right)} \\frac{\\partial}{\\partial t} L{\\left(t,r \\right)} \\frac{\\partial}{\\partial t} S{\\left(t,r \\right)} - 2 L{\\left(t,r \\right)} S{\\left(t,r \\right)} \\frac{\\partial^{2}}{\\partial r^{2}} S{\\left(t,r \\right)} - L{\\left(t,r \\right)} \\left(\\frac{\\partial}{\\partial r} S{\\left(t,r \\right)}\\right)^{2} + 2 S{\\left(t,r \\right)} \\frac{\\partial}{\\partial r} L{\\left(t,r \\right)} \\frac{\\partial}{\\partial r} S{\\left(t,r \\right)}}{L^{3}{\\left(t,r \\right)} S^{2}{\\left(t,r \\right)}} = 0$"
      ],
      "text/plain": [
       "Eq((L(t, r)**3*Derivative(S(t, r), t)**2 + L(t, r)**3 + 2*L(t, r)**2*S(t, r)*Derivative(L(t, r), t)*Derivative(S(t, r), t) - 2*L(t, r)*S(t, r)*Derivative(S(t, r), (r, 2)) - L(t, r)*Derivative(S(t, r), r)**2 + 2*S(t, r)*Derivative(L(t, r), r)*Derivative(S(t, r), r))/(L(t, r)**3*S(t, r)**2), 0)"
      ]
     },
     "execution_count": 55,
     "metadata": {},
     "output_type": "execute_result"
    }
   ],
   "source": [
    "EFE_00 = simplify(constants.subs_natural(gravity.einstein_equation(0, 0, g).doit()))\n",
    "EFE_00"
   ]
  },
  {
   "cell_type": "code",
   "execution_count": 56,
   "metadata": {
    "ExecuteTime": {
     "end_time": "2020-12-04T03:31:06.475260Z",
     "start_time": "2020-12-04T03:31:04.808145Z"
    }
   },
   "outputs": [
    {
     "data": {
      "text/latex": [
       "$\\displaystyle \\frac{2 \\left(- L{\\left(t,r \\right)} \\frac{\\partial^{2}}{\\partial t\\partial r} S{\\left(t,r \\right)} + \\frac{\\partial}{\\partial t} L{\\left(t,r \\right)} \\frac{\\partial}{\\partial r} S{\\left(t,r \\right)}\\right)}{L{\\left(t,r \\right)} S{\\left(t,r \\right)}} = 0$"
      ],
      "text/plain": [
       "Eq(2*(-L(t, r)*Derivative(S(t, r), r, t) + Derivative(L(t, r), t)*Derivative(S(t, r), r))/(L(t, r)*S(t, r)), 0)"
      ]
     },
     "execution_count": 56,
     "metadata": {},
     "output_type": "execute_result"
    }
   ],
   "source": [
    "EFE_01 = simplify(constants.subs_natural(gravity.einstein_equation(0, 1, g).doit()))\n",
    "EFE_01"
   ]
  },
  {
   "cell_type": "code",
   "execution_count": 57,
   "metadata": {
    "ExecuteTime": {
     "end_time": "2020-12-04T03:31:11.036491Z",
     "start_time": "2020-12-04T03:31:09.051692Z"
    }
   },
   "outputs": [
    {
     "data": {
      "text/latex": [
       "$\\displaystyle \\frac{- 2 L^{2}{\\left(t,r \\right)} S{\\left(t,r \\right)} \\frac{\\partial^{2}}{\\partial t^{2}} S{\\left(t,r \\right)} - L^{2}{\\left(t,r \\right)} \\left(\\frac{\\partial}{\\partial t} S{\\left(t,r \\right)}\\right)^{2} - L^{2}{\\left(t,r \\right)} + \\left(\\frac{\\partial}{\\partial r} S{\\left(t,r \\right)}\\right)^{2}}{S^{2}{\\left(t,r \\right)}} = 0$"
      ],
      "text/plain": [
       "Eq((-2*L(t, r)**2*S(t, r)*Derivative(S(t, r), (t, 2)) - L(t, r)**2*Derivative(S(t, r), t)**2 - L(t, r)**2 + Derivative(S(t, r), r)**2)/S(t, r)**2, 0)"
      ]
     },
     "execution_count": 57,
     "metadata": {},
     "output_type": "execute_result"
    }
   ],
   "source": [
    "EFE_11 = simplify(constants.subs_natural(gravity.einstein_equation(1, 1, g).doit()))\n",
    "EFE_11"
   ]
  },
  {
   "cell_type": "code",
   "execution_count": 58,
   "metadata": {
    "ExecuteTime": {
     "end_time": "2020-12-04T03:31:15.175319Z",
     "start_time": "2020-12-04T03:31:13.013461Z"
    }
   },
   "outputs": [
    {
     "data": {
      "text/latex": [
       "$\\displaystyle \\frac{\\left(- L^{3}{\\left(t,r \\right)} \\frac{\\partial^{2}}{\\partial t^{2}} S{\\left(t,r \\right)} - L^{2}{\\left(t,r \\right)} S{\\left(t,r \\right)} \\frac{\\partial^{2}}{\\partial t^{2}} L{\\left(t,r \\right)} - L^{2}{\\left(t,r \\right)} \\frac{\\partial}{\\partial t} L{\\left(t,r \\right)} \\frac{\\partial}{\\partial t} S{\\left(t,r \\right)} + L{\\left(t,r \\right)} \\frac{\\partial^{2}}{\\partial r^{2}} S{\\left(t,r \\right)} - \\frac{\\partial}{\\partial r} L{\\left(t,r \\right)} \\frac{\\partial}{\\partial r} S{\\left(t,r \\right)}\\right) S{\\left(t,r \\right)}}{L^{3}{\\left(t,r \\right)}} = 0$"
      ],
      "text/plain": [
       "Eq((-L(t, r)**3*Derivative(S(t, r), (t, 2)) - L(t, r)**2*S(t, r)*Derivative(L(t, r), (t, 2)) - L(t, r)**2*Derivative(L(t, r), t)*Derivative(S(t, r), t) + L(t, r)*Derivative(S(t, r), (r, 2)) - Derivative(L(t, r), r)*Derivative(S(t, r), r))*S(t, r)/L(t, r)**3, 0)"
      ]
     },
     "execution_count": 58,
     "metadata": {},
     "output_type": "execute_result"
    }
   ],
   "source": [
    "EFE_22 = simplify(constants.subs_natural(gravity.einstein_equation(2, 2, g).doit()))\n",
    "EFE_22"
   ]
  },
  {
   "cell_type": "markdown",
   "metadata": {},
   "source": [
    "# Rearranging Terms"
   ]
  },
  {
   "cell_type": "markdown",
   "metadata": {},
   "source": [
    "$\\text{EFE}_{00}:\\quad 2\\partial_t^2 L - L = 0$"
   ]
  },
  {
   "cell_type": "markdown",
   "metadata": {},
   "source": [
    "$\\text{EFE}_{01}:\\quad \\frac{2\\partial_t L}{r L} = 0$"
   ]
  },
  {
   "cell_type": "markdown",
   "metadata": {},
   "source": [
    "$\\text{EFE}_{11}:\\quad -\\frac{1}{2} L^3 + L^2 \\partial_t^2 L + \\frac{2}{r} \\partial_r L$"
   ]
  },
  {
   "cell_type": "code",
   "execution_count": null,
   "metadata": {},
   "outputs": [],
   "source": []
  },
  {
   "cell_type": "markdown",
   "metadata": {},
   "source": [
    "## Testing Extension of Constants"
   ]
  },
  {
   "cell_type": "code",
   "execution_count": null,
   "metadata": {},
   "outputs": [],
   "source": []
  },
  {
   "cell_type": "code",
   "execution_count": null,
   "metadata": {},
   "outputs": [],
   "source": []
  },
  {
   "cell_type": "code",
   "execution_count": null,
   "metadata": {},
   "outputs": [],
   "source": []
  },
  {
   "cell_type": "code",
   "execution_count": null,
   "metadata": {},
   "outputs": [],
   "source": []
  },
  {
   "cell_type": "code",
   "execution_count": 23,
   "metadata": {},
   "outputs": [],
   "source": [
    "def foo(a, b):\n",
    "    c = bar(a, b)\n",
    "    return c + b + a"
   ]
  },
  {
   "cell_type": "code",
   "execution_count": 26,
   "metadata": {},
   "outputs": [],
   "source": [
    "def bar(a, b):\n",
    "    c = foo(a, b)\n",
    "    return a * b"
   ]
  },
  {
   "cell_type": "code",
   "execution_count": 27,
   "metadata": {},
   "outputs": [
    {
     "data": {
      "text/plain": [
       "5"
      ]
     },
     "execution_count": 27,
     "metadata": {},
     "output_type": "execute_result"
    }
   ],
   "source": [
    "foo(1, 2)"
   ]
  },
  {
   "cell_type": "code",
   "execution_count": null,
   "metadata": {},
   "outputs": [],
   "source": []
  }
 ],
 "metadata": {
  "kernelspec": {
   "display_name": "Python 3",
   "language": "python",
   "name": "python3"
  },
  "language_info": {
   "codemirror_mode": {
    "name": "ipython",
    "version": 3
   },
   "file_extension": ".py",
   "mimetype": "text/x-python",
   "name": "python",
   "nbconvert_exporter": "python",
   "pygments_lexer": "ipython3",
   "version": "3.8.6"
  }
 },
 "nbformat": 4,
 "nbformat_minor": 4
}
